{
 "cells": [
  {
   "cell_type": "code",
   "execution_count": 3,
   "metadata": {},
   "outputs": [
    {
     "ename": "ImportError",
     "evalue": "No module named 'sklearn'",
     "output_type": "error",
     "traceback": [
      "\u001b[0;31m---------------------------------------------------------------------------\u001b[0m",
      "\u001b[0;31mImportError\u001b[0m                               Traceback (most recent call last)",
      "\u001b[0;32m<ipython-input-3-42bed27851e3>\u001b[0m in \u001b[0;36m<module>\u001b[0;34m\u001b[0m\n\u001b[0;32m----> 1\u001b[0;31m \u001b[0;32mfrom\u001b[0m \u001b[0mactive_planner\u001b[0m\u001b[0;34m.\u001b[0m\u001b[0mpy\u001b[0m \u001b[0;32mimport\u001b[0m \u001b[0mActivePlanner\u001b[0m\u001b[0;34m\u001b[0m\u001b[0m\n\u001b[0m",
      "\u001b[0;32m~/Documents/saifer-surgery/src/saif_planning/src/planning_discrete_pts/scripts/active_planner.py\u001b[0m in \u001b[0;36m<module>\u001b[0;34m\u001b[0m\n\u001b[1;32m      1\u001b[0m \u001b[0;31m#!/usr/bin/env python\u001b[0m\u001b[0;34m\u001b[0m\u001b[0;34m\u001b[0m\u001b[0m\n\u001b[1;32m      2\u001b[0m \u001b[0;32mfrom\u001b[0m \u001b[0mcv_bridge\u001b[0m \u001b[0;32mimport\u001b[0m \u001b[0mCvBridge\u001b[0m\u001b[0;34m,\u001b[0m \u001b[0mCvBridgeError\u001b[0m\u001b[0;34m\u001b[0m\u001b[0m\n\u001b[0;32m----> 3\u001b[0;31m \u001b[0;32mfrom\u001b[0m \u001b[0msklearn\u001b[0m\u001b[0;34m.\u001b[0m\u001b[0mgaussian_process\u001b[0m \u001b[0;32mimport\u001b[0m \u001b[0mGaussianProcessRegressor\u001b[0m\u001b[0;34m\u001b[0m\u001b[0m\n\u001b[0m\u001b[1;32m      4\u001b[0m \u001b[0;32mfrom\u001b[0m \u001b[0mkeras\u001b[0m\u001b[0;34m.\u001b[0m\u001b[0mapplications\u001b[0m\u001b[0;34m.\u001b[0m\u001b[0minception_v3\u001b[0m \u001b[0;32mimport\u001b[0m \u001b[0mInceptionV3\u001b[0m\u001b[0;34m\u001b[0m\u001b[0m\n\u001b[1;32m      5\u001b[0m \u001b[0;32mimport\u001b[0m \u001b[0mtensorflow\u001b[0m \u001b[0;32mas\u001b[0m \u001b[0mtf\u001b[0m\u001b[0;34m\u001b[0m\u001b[0m\n",
      "\u001b[0;31mImportError\u001b[0m: No module named 'sklearn'"
     ]
    }
   ],
   "source": [
    "from active_planner.py import ActivePlanner"
   ]
  },
  {
   "cell_type": "code",
   "execution_count": 6,
   "metadata": {},
   "outputs": [],
   "source": [
    "import numpy as np\n",
    "import matplotlib.pyplot as plt\n",
    "import sys\n",
    "sys.path.remove('/opt/ros/kinetic/lib/python2.7/dist-packages') # in order to import cv2 under python3\n",
    "import cv2\n",
    "sys.path.append('/opt/ros/kinetic/lib/python2.7/dist-packages') # append back in order to import rospy\n"
   ]
  },
  {
   "cell_type": "code",
   "execution_count": 12,
   "metadata": {},
   "outputs": [
    {
     "ename": "ValueError",
     "evalue": "could not convert string to float: '0.83336824,0.8303409,0.8310805,0.8275986,0.8272544,0.8251424,0.82862574,0.83780605,0.8307642,0.8289331,0.8276714,0.8303267,0.8277697,0.82878953,0.83227307,0.83189416,0.8180465,0.8191917,0.8222119,0.82031983,0.825236,0.8199501,0.81674665,0.82108223,0.81990004,0.82703024,0.818052,0.823254,0.8362148,0.836816,0.83109033,0.834984,0.8318432,0.83283436,0.8358144,0.8334192,0.82719624,0.83127177,0.8340505,0.83344346,0.8335169,0.8320617,0.8303463,0.82815903,0.80806553,0.8007608,0.8020847,0.80176497,0.80430686,0.8089712,0.80699766,0.83594525,0.8370884,0.8326457,0.82987636,0.8330103,0.8317739,0.83507776,0.8313953,0.8213223,0.81885374,0.8205799,0.81319237,0.8182825,0.8152557,0.82368743,0.8201652,0.8216738,0.8330754,0.8321267,0.8322496,0.83660376,0.838106,0.8356315,0.8337243,0.84111947,0.8071719,0.7999103,0.8037868,0.80299664,0.8047842,0.80615085,0.8031217,0.80500394,0.7986932,0.8023737,0.82549,0.821888,0.82582366,0.8208721,0.82585853,0.8262333,0.8244711,0.82656807,0.82577527,0.8231527,0.822621,0.82481223,0.8249791,0.82406825,0.82260215,0.82117486,0.82034045,0.82351196,0.8215254,0.8209384,0.81501806,0.81725264,0.822462,0.81953585,0.8207663,0.81891954,0.8192144,0.8229104,0.82147115,0.8178256,0.81976634,0.8185153,0.8192066,0.83625895,0.84022945,0.84082663,0.84102833,0.8432544,0.84089214,0.8429333,0.8441931,0.843055,0.8395826,0.8411355,0.84163207,0.84244585,0.840597,0.8411263,0.84129083,0.84172195,0.84050053,0.8413176,0.8423767,0.84509397,0.8428587,0.82983714,0.8289705,0.83453834,0.8318256,0.829991,0.82871854,0.8289716,0.8273985,0.83042526,0.832666,0.82799023,0.831069,0.8299908,0.82830584,0.8252431,0.8299461,0.8275362,0.8331452,0.8174398,0.8152302,0.812246,0.8162324,0.82065994,0.8199739,0.8200864,0.814578,0.8125245,0.8159416,0.8134837,0.8209958,0.81418675,0.8193444,0.8314315,0.8256581,0.831531,0.8299304,0.82825977,0.8304936,0.8272929,0.83079934,0.82994664,0.8276597,0.82447046,0.81899554,0.8170533,0.8182579,0.815705,0.8159778,0.81408554,0.81949323,0.77697015,0.7851978,0.78446877,0.77905375,0.7833454,0.7794382,0.78146863,0.7794847,0.77987486'",
     "output_type": "error",
     "traceback": [
      "\u001b[0;31m---------------------------------------------------------------------------\u001b[0m",
      "\u001b[0;31mValueError\u001b[0m                                Traceback (most recent call last)",
      "\u001b[0;32m<ipython-input-12-50ebe7ac70d2>\u001b[0m in \u001b[0;36m<module>\u001b[0;34m\u001b[0m\n\u001b[1;32m      1\u001b[0m \u001b[0mfile_prefix\u001b[0m \u001b[0;34m=\u001b[0m \u001b[0;34m\"liquidliquid\"\u001b[0m\u001b[0;34m\u001b[0m\u001b[0m\n\u001b[0;32m----> 2\u001b[0;31m \u001b[0mrewards\u001b[0m \u001b[0;34m=\u001b[0m \u001b[0mnp\u001b[0m\u001b[0;34m.\u001b[0m\u001b[0mloadtxt\u001b[0m\u001b[0;34m(\u001b[0m\u001b[0mfile_prefix\u001b[0m \u001b[0;34m+\u001b[0m \u001b[0;34m\"_rewards.csv\"\u001b[0m\u001b[0;34m)\u001b[0m\u001b[0;34m\u001b[0m\u001b[0m\n\u001b[0m\u001b[1;32m      3\u001b[0m \u001b[0mtrajectories\u001b[0m \u001b[0;34m=\u001b[0m \u001b[0mnp\u001b[0m\u001b[0;34m.\u001b[0m\u001b[0mload\u001b[0m\u001b[0;34m(\u001b[0m\u001b[0mfile_prefix\u001b[0m \u001b[0;34m+\u001b[0m \u001b[0;34m\"_trajectory.csv\"\u001b[0m\u001b[0;34m,\u001b[0m \u001b[0mallow_pickle\u001b[0m\u001b[0;34m=\u001b[0m\u001b[0;32mTrue\u001b[0m\u001b[0;34m)\u001b[0m\u001b[0;34m\u001b[0m\u001b[0m\n\u001b[1;32m      4\u001b[0m \u001b[0;31m#images = np.load(file_prefix + \"_images.csv\")\u001b[0m\u001b[0;34m\u001b[0m\u001b[0;34m\u001b[0m\u001b[0m\n\u001b[1;32m      5\u001b[0m \u001b[0mnum_trials\u001b[0m\u001b[0;34m,\u001b[0m \u001b[0mep_length\u001b[0m \u001b[0;34m=\u001b[0m \u001b[0mnp\u001b[0m\u001b[0;34m.\u001b[0m\u001b[0mshape\u001b[0m\u001b[0;34m(\u001b[0m\u001b[0mrewards\u001b[0m\u001b[0;34m)\u001b[0m\u001b[0;34m\u001b[0m\u001b[0m\n",
      "\u001b[0;32m~/.local/lib/python3.5/site-packages/numpy/lib/npyio.py\u001b[0m in \u001b[0;36mloadtxt\u001b[0;34m(fname, dtype, comments, delimiter, converters, skiprows, usecols, unpack, ndmin, encoding, max_rows)\u001b[0m\n\u001b[1;32m   1144\u001b[0m         \u001b[0;31m# converting the data\u001b[0m\u001b[0;34m\u001b[0m\u001b[0;34m\u001b[0m\u001b[0m\n\u001b[1;32m   1145\u001b[0m         \u001b[0mX\u001b[0m \u001b[0;34m=\u001b[0m \u001b[0;32mNone\u001b[0m\u001b[0;34m\u001b[0m\u001b[0m\n\u001b[0;32m-> 1146\u001b[0;31m         \u001b[0;32mfor\u001b[0m \u001b[0mx\u001b[0m \u001b[0;32min\u001b[0m \u001b[0mread_data\u001b[0m\u001b[0;34m(\u001b[0m\u001b[0m_loadtxt_chunksize\u001b[0m\u001b[0;34m)\u001b[0m\u001b[0;34m:\u001b[0m\u001b[0;34m\u001b[0m\u001b[0m\n\u001b[0m\u001b[1;32m   1147\u001b[0m             \u001b[0;32mif\u001b[0m \u001b[0mX\u001b[0m \u001b[0;32mis\u001b[0m \u001b[0;32mNone\u001b[0m\u001b[0;34m:\u001b[0m\u001b[0;34m\u001b[0m\u001b[0m\n\u001b[1;32m   1148\u001b[0m                 \u001b[0mX\u001b[0m \u001b[0;34m=\u001b[0m \u001b[0mnp\u001b[0m\u001b[0;34m.\u001b[0m\u001b[0marray\u001b[0m\u001b[0;34m(\u001b[0m\u001b[0mx\u001b[0m\u001b[0;34m,\u001b[0m \u001b[0mdtype\u001b[0m\u001b[0;34m)\u001b[0m\u001b[0;34m\u001b[0m\u001b[0m\n",
      "\u001b[0;32m~/.local/lib/python3.5/site-packages/numpy/lib/npyio.py\u001b[0m in \u001b[0;36mread_data\u001b[0;34m(chunk_size)\u001b[0m\n\u001b[1;32m   1072\u001b[0m \u001b[0;34m\u001b[0m\u001b[0m\n\u001b[1;32m   1073\u001b[0m             \u001b[0;31m# Convert each value according to its column and store\u001b[0m\u001b[0;34m\u001b[0m\u001b[0;34m\u001b[0m\u001b[0m\n\u001b[0;32m-> 1074\u001b[0;31m             \u001b[0mitems\u001b[0m \u001b[0;34m=\u001b[0m \u001b[0;34m[\u001b[0m\u001b[0mconv\u001b[0m\u001b[0;34m(\u001b[0m\u001b[0mval\u001b[0m\u001b[0;34m)\u001b[0m \u001b[0;32mfor\u001b[0m \u001b[0;34m(\u001b[0m\u001b[0mconv\u001b[0m\u001b[0;34m,\u001b[0m \u001b[0mval\u001b[0m\u001b[0;34m)\u001b[0m \u001b[0;32min\u001b[0m \u001b[0mzip\u001b[0m\u001b[0;34m(\u001b[0m\u001b[0mconverters\u001b[0m\u001b[0;34m,\u001b[0m \u001b[0mvals\u001b[0m\u001b[0;34m)\u001b[0m\u001b[0;34m]\u001b[0m\u001b[0;34m\u001b[0m\u001b[0m\n\u001b[0m\u001b[1;32m   1075\u001b[0m \u001b[0;34m\u001b[0m\u001b[0m\n\u001b[1;32m   1076\u001b[0m             \u001b[0;31m# Then pack it according to the dtype's nesting\u001b[0m\u001b[0;34m\u001b[0m\u001b[0;34m\u001b[0m\u001b[0m\n",
      "\u001b[0;32m~/.local/lib/python3.5/site-packages/numpy/lib/npyio.py\u001b[0m in \u001b[0;36m<listcomp>\u001b[0;34m(.0)\u001b[0m\n\u001b[1;32m   1072\u001b[0m \u001b[0;34m\u001b[0m\u001b[0m\n\u001b[1;32m   1073\u001b[0m             \u001b[0;31m# Convert each value according to its column and store\u001b[0m\u001b[0;34m\u001b[0m\u001b[0;34m\u001b[0m\u001b[0m\n\u001b[0;32m-> 1074\u001b[0;31m             \u001b[0mitems\u001b[0m \u001b[0;34m=\u001b[0m \u001b[0;34m[\u001b[0m\u001b[0mconv\u001b[0m\u001b[0;34m(\u001b[0m\u001b[0mval\u001b[0m\u001b[0;34m)\u001b[0m \u001b[0;32mfor\u001b[0m \u001b[0;34m(\u001b[0m\u001b[0mconv\u001b[0m\u001b[0;34m,\u001b[0m \u001b[0mval\u001b[0m\u001b[0;34m)\u001b[0m \u001b[0;32min\u001b[0m \u001b[0mzip\u001b[0m\u001b[0;34m(\u001b[0m\u001b[0mconverters\u001b[0m\u001b[0;34m,\u001b[0m \u001b[0mvals\u001b[0m\u001b[0;34m)\u001b[0m\u001b[0;34m]\u001b[0m\u001b[0;34m\u001b[0m\u001b[0m\n\u001b[0m\u001b[1;32m   1075\u001b[0m \u001b[0;34m\u001b[0m\u001b[0m\n\u001b[1;32m   1076\u001b[0m             \u001b[0;31m# Then pack it according to the dtype's nesting\u001b[0m\u001b[0;34m\u001b[0m\u001b[0;34m\u001b[0m\u001b[0m\n",
      "\u001b[0;32m~/.local/lib/python3.5/site-packages/numpy/lib/npyio.py\u001b[0m in \u001b[0;36mfloatconv\u001b[0;34m(x)\u001b[0m\n\u001b[1;32m    779\u001b[0m         \u001b[0;32mif\u001b[0m \u001b[0;34m'0x'\u001b[0m \u001b[0;32min\u001b[0m \u001b[0mx\u001b[0m\u001b[0;34m:\u001b[0m\u001b[0;34m\u001b[0m\u001b[0m\n\u001b[1;32m    780\u001b[0m             \u001b[0;32mreturn\u001b[0m \u001b[0mfloat\u001b[0m\u001b[0;34m.\u001b[0m\u001b[0mfromhex\u001b[0m\u001b[0;34m(\u001b[0m\u001b[0mx\u001b[0m\u001b[0;34m)\u001b[0m\u001b[0;34m\u001b[0m\u001b[0m\n\u001b[0;32m--> 781\u001b[0;31m         \u001b[0;32mreturn\u001b[0m \u001b[0mfloat\u001b[0m\u001b[0;34m(\u001b[0m\u001b[0mx\u001b[0m\u001b[0;34m)\u001b[0m\u001b[0;34m\u001b[0m\u001b[0m\n\u001b[0m\u001b[1;32m    782\u001b[0m \u001b[0;34m\u001b[0m\u001b[0m\n\u001b[1;32m    783\u001b[0m     \u001b[0mtyp\u001b[0m \u001b[0;34m=\u001b[0m \u001b[0mdtype\u001b[0m\u001b[0;34m.\u001b[0m\u001b[0mtype\u001b[0m\u001b[0;34m\u001b[0m\u001b[0m\n",
      "\u001b[0;31mValueError\u001b[0m: could not convert string to float: '0.83336824,0.8303409,0.8310805,0.8275986,0.8272544,0.8251424,0.82862574,0.83780605,0.8307642,0.8289331,0.8276714,0.8303267,0.8277697,0.82878953,0.83227307,0.83189416,0.8180465,0.8191917,0.8222119,0.82031983,0.825236,0.8199501,0.81674665,0.82108223,0.81990004,0.82703024,0.818052,0.823254,0.8362148,0.836816,0.83109033,0.834984,0.8318432,0.83283436,0.8358144,0.8334192,0.82719624,0.83127177,0.8340505,0.83344346,0.8335169,0.8320617,0.8303463,0.82815903,0.80806553,0.8007608,0.8020847,0.80176497,0.80430686,0.8089712,0.80699766,0.83594525,0.8370884,0.8326457,0.82987636,0.8330103,0.8317739,0.83507776,0.8313953,0.8213223,0.81885374,0.8205799,0.81319237,0.8182825,0.8152557,0.82368743,0.8201652,0.8216738,0.8330754,0.8321267,0.8322496,0.83660376,0.838106,0.8356315,0.8337243,0.84111947,0.8071719,0.7999103,0.8037868,0.80299664,0.8047842,0.80615085,0.8031217,0.80500394,0.7986932,0.8023737,0.82549,0.821888,0.82582366,0.8208721,0.82585853,0.8262333,0.8244711,0.82656807,0.82577527,0.8231527,0.822621,0.82481223,0.8249791,0.82406825,0.82260215,0.82117486,0.82034045,0.82351196,0.8215254,0.8209384,0.81501806,0.81725264,0.822462,0.81953585,0.8207663,0.81891954,0.8192144,0.8229104,0.82147115,0.8178256,0.81976634,0.8185153,0.8192066,0.83625895,0.84022945,0.84082663,0.84102833,0.8432544,0.84089214,0.8429333,0.8441931,0.843055,0.8395826,0.8411355,0.84163207,0.84244585,0.840597,0.8411263,0.84129083,0.84172195,0.84050053,0.8413176,0.8423767,0.84509397,0.8428587,0.82983714,0.8289705,0.83453834,0.8318256,0.829991,0.82871854,0.8289716,0.8273985,0.83042526,0.832666,0.82799023,0.831069,0.8299908,0.82830584,0.8252431,0.8299461,0.8275362,0.8331452,0.8174398,0.8152302,0.812246,0.8162324,0.82065994,0.8199739,0.8200864,0.814578,0.8125245,0.8159416,0.8134837,0.8209958,0.81418675,0.8193444,0.8314315,0.8256581,0.831531,0.8299304,0.82825977,0.8304936,0.8272929,0.83079934,0.82994664,0.8276597,0.82447046,0.81899554,0.8170533,0.8182579,0.815705,0.8159778,0.81408554,0.81949323,0.77697015,0.7851978,0.78446877,0.77905375,0.7833454,0.7794382,0.78146863,0.7794847,0.77987486'"
     ]
    }
   ],
   "source": [
    "file_prefix = \"liquidliquid\"\n",
    "rewards = np.loadtxt(file_prefix + \"_rewards.csv\")\n",
    "trajectories = np.load(file_prefix + \"_trajectory.csv\", allow_pickle=True)\n",
    "#images = np.load(file_prefix + \"_images.csv\")\n",
    "num_trials, ep_length = np.shape(rewards)"
   ]
  },
  {
   "cell_type": "code",
   "execution_count": null,
   "metadata": {},
   "outputs": [],
   "source": [
    "for i in range(num_trials):\n",
    "    plt.figure()\n",
    "    plt.plot(range(0, ep_length), rewards[i, :])"
   ]
  },
  {
   "cell_type": "code",
   "execution_count": null,
   "metadata": {},
   "outputs": [],
   "source": [
    "def visualizeTrajectory(trial):\n",
    "    for im in images:\n",
    "        cv2.imshow(im)"
   ]
  }
 ],
 "metadata": {
  "kernelspec": {
   "display_name": "Python 3",
   "language": "python",
   "name": "python3"
  },
  "language_info": {
   "codemirror_mode": {
    "name": "ipython",
    "version": 3
   },
   "file_extension": ".py",
   "mimetype": "text/x-python",
   "name": "python",
   "nbconvert_exporter": "python",
   "pygments_lexer": "ipython3",
   "version": "3.5.2"
  }
 },
 "nbformat": 4,
 "nbformat_minor": 2
}
