{
 "cells": [
  {
   "cell_type": "markdown",
   "metadata": {},
   "source": [
    "# Collect multiple force/torque measurements as end-effector moves around, train decision tree to predict expected force."
   ]
  },
  {
   "cell_type": "code",
   "execution_count": 1,
   "metadata": {},
   "outputs": [
    {
     "name": "stdout",
     "output_type": "stream",
     "text": [
      "Failed to import pyassimp, see https://github.com/ros-planning/moveit/issues/86 for more info\n"
     ]
    }
   ],
   "source": [
    "#!/usr/bin/env python\n",
    "import rospy\n",
    "from geometry_msgs.msg import WrenchStamped\n",
    "import moveit_commander\n",
    "import numpy as np\n",
    "from matplotlib import pyplot as plt\n",
    "%matplotlib inline\n",
    "from scipy.spatial.transform import Rotation as R"
   ]
  },
  {
   "cell_type": "code",
   "execution_count": 2,
   "metadata": {},
   "outputs": [],
   "source": [
    "class FT_DATA_COLLECTOR:\n",
    "    def __init__(self,N=5000):\n",
    "        \n",
    "        self.robot = moveit_commander.RobotCommander()\n",
    "        self.group_name = \"red_arm\"\n",
    "        self.group = moveit_commander.MoveGroupCommander(self.group_name)\n",
    "        \n",
    "        rospy.init_node('listener', anonymous=True)\n",
    "\n",
    "        rospy.Subscriber(\"/red/robotiq_ft_wrench\", WrenchStamped, self.callback)\n",
    "        self.f = []\n",
    "        self.m = []\n",
    "        self.theta = []\n",
    "        self.N = N\n",
    "        rospy.spin()\n",
    "        \n",
    "\n",
    "    def callback(self,msg):\n",
    "        pose = self.group.get_current_pose().pose\n",
    "        theta = R.from_quat(np.array((pose.orientation.x,pose.orientation.y,pose.orientation.z,pose.orientation.w)))\n",
    "        self.theta.append(theta.as_euler('zyx'))\n",
    "        self.f.append(np.array((msg.wrench.force.x,msg.wrench.force.y,msg.wrench.force.z)))\n",
    "        self.m.append(np.array((msg.wrench.torque.x,msg.wrench.torque.y,msg.wrench.torque.z)))\n",
    "        \n",
    "        if (len(self.f) >= self.N):\n",
    "            rospy.signal_shutdown('Got %d samples'%self.N)\n",
    "    "
   ]
  },
  {
   "cell_type": "code",
   "execution_count": null,
   "metadata": {},
   "outputs": [],
   "source": [
    "data_collect = FT_DATA_COLLECTOR(N=10000)"
   ]
  },
  {
   "cell_type": "code",
   "execution_count": null,
   "metadata": {},
   "outputs": [],
   "source": [
    "F = np.array(data_collect.f)\n",
    "T = np.array(data_collect.m)\n",
    "theta = np.array(data_collect.theta)"
   ]
  },
  {
   "cell_type": "code",
   "execution_count": null,
   "metadata": {},
   "outputs": [],
   "source": [
    "plt.figure(figsize=(15,5))\n",
    "plt.subplot(2,3,1)\n",
    "plt.plot(theta[:,0],F[:,0])\n",
    "plt.plot(theta[:,0],F[:,1])\n",
    "plt.plot(theta[:,0],F[:,2])\n",
    "plt.grid()\n",
    "plt.subplot(2,3,2)\n",
    "plt.plot(theta[:,1],F[:,0])\n",
    "plt.plot(theta[:,1],F[:,1])\n",
    "plt.plot(theta[:,1],F[:,2])\n",
    "plt.grid()\n",
    "plt.subplot(2,3,3)\n",
    "plt.plot(theta[:,2],F[:,0])\n",
    "plt.plot(theta[:,2],F[:,1])\n",
    "plt.plot(theta[:,2],F[:,2])\n",
    "plt.grid()\n",
    "plt.subplot(2,3,4)\n",
    "plt.plot(theta[:,0],T[:,0])\n",
    "plt.plot(theta[:,0],T[:,1])\n",
    "plt.plot(theta[:,0],T[:,2])\n",
    "plt.grid()\n",
    "plt.subplot(2,3,5)\n",
    "plt.plot(theta[:,1],T[:,0])\n",
    "plt.plot(theta[:,1],T[:,1])\n",
    "plt.plot(theta[:,1],T[:,2])\n",
    "plt.grid()\n",
    "plt.subplot(2,3,6)\n",
    "plt.plot(theta[:,2],T[:,0])\n",
    "plt.plot(theta[:,2],T[:,1])\n",
    "plt.plot(theta[:,2],T[:,2])\n",
    "plt.grid()\n",
    "plt.show()"
   ]
  },
  {
   "cell_type": "code",
   "execution_count": null,
   "metadata": {},
   "outputs": [],
   "source": [
    "np.savetxt('F_%s.txt'%data_collect.group_name,F)\n",
    "np.savetxt('T_%s.txt'%data_collect.group_name,T)\n",
    "np.savetxt('theta_%s.txt'%data_collect.group_name,theta)"
   ]
  },
  {
   "cell_type": "code",
   "execution_count": null,
   "metadata": {},
   "outputs": [],
   "source": [
    "F = np.genfromtxt('../data/F_red_arm.txt')\n",
    "T = np.genfromtxt('../data/T_red_arm.txt')\n",
    "theta = np.genfromtxt('../data/theta_red_arm.txt')"
   ]
  },
  {
   "cell_type": "code",
   "execution_count": null,
   "metadata": {},
   "outputs": [],
   "source": [
    "plt.figure(figsize=(15,9))\n",
    "plt.subplot(2,2,1)\n",
    "plt.hist(F[:,0])\n",
    "plt.hist(F[:,1])\n",
    "plt.hist(F[:,2])\n",
    "plt.grid()\n",
    "plt.xlabel('Collected Force Distribution')\n",
    "plt.subplot(2,2,2)\n",
    "plt.hist(T[:,0])\n",
    "plt.hist(T[:,1])\n",
    "plt.hist(T[:,2])\n",
    "plt.xlabel('Collected Torque Distribution')\n",
    "plt.grid()\n",
    "plt.subplot(2,1,2)\n",
    "plt.hist(theta[:,0]*180/np.pi,alpha=0.5)\n",
    "plt.hist(theta[:,1]*180/np.pi,alpha=0.5)\n",
    "plt.hist(theta[:,2]*180/np.pi,alpha=0.5)\n",
    "plt.xlabel('Collected Orientations (Deg)')\n",
    "plt.grid()\n",
    "plt.show()"
   ]
  },
  {
   "cell_type": "code",
   "execution_count": null,
   "metadata": {},
   "outputs": [],
   "source": [
    "from sklearn.tree import DecisionTreeRegressor\n",
    "from sklearn.ensemble import RandomForestRegressor\n",
    "from sklearn.neighbors import KNeighborsRegressor\n",
    "from sklearn.model_selection import train_test_split"
   ]
  },
  {
   "cell_type": "code",
   "execution_count": null,
   "metadata": {},
   "outputs": [],
   "source": [
    "#dt = DecisionTreeRegressor(max_depth=20)\n",
    "#dt = RandomForestRegressor(max_depth=20,n_estimators=200)\n",
    "dt = KNeighborsRegressor(n_neighbors=1)"
   ]
  },
  {
   "cell_type": "code",
   "execution_count": null,
   "metadata": {},
   "outputs": [],
   "source": [
    "X_train, X_test, y_train, y_test = train_test_split(theta, F, test_size=0.3)\n",
    "dt.fit(X_train,y_train)\n",
    "\n",
    "ypred = dt.predict(X_test)\n",
    "\n",
    "plt.figure(figsize=(15,5))\n",
    "plt.hist(np.sqrt(np.sum((ypred-y_test)**2,axis=1)),bins=100)\n",
    "plt.grid()\n",
    "plt.ylabel('Frequency')\n",
    "plt.xlabel('Force prediction error')\n",
    "plt.show()"
   ]
  },
  {
   "cell_type": "code",
   "execution_count": null,
   "metadata": {},
   "outputs": [],
   "source": [
    "plt.figure(figsize=(18,5))\n",
    "plt.subplot(1,3,1)\n",
    "plt.plot(y_test[:,0],ypred[:,0],'o',alpha=0.1)\n",
    "plt.grid()\n",
    "plt.ylabel('Predicted Force')\n",
    "plt.xlabel('Force')\n",
    "plt.subplot(1,3,2)\n",
    "plt.plot(y_test[:,1],ypred[:,1],'o',alpha=0.1)\n",
    "plt.grid()\n",
    "plt.ylabel('Predicted Force')\n",
    "plt.xlabel('Force')\n",
    "plt.subplot(1,3,3)\n",
    "plt.plot(y_test[:,2],ypred[:,2],'o',alpha=0.1)\n",
    "plt.grid()\n",
    "plt.ylabel('Predicted Force')\n",
    "plt.xlabel('Force')\n",
    "plt.show()"
   ]
  },
  {
   "cell_type": "code",
   "execution_count": null,
   "metadata": {},
   "outputs": [],
   "source": [
    "X_train, X_test, y_train, y_test = train_test_split(theta, T, test_size=0.33, random_state=42)\n",
    "dt.fit(X_train,y_train)\n",
    "\n",
    "ypred = dt.predict(X_test)\n",
    "\n",
    "plt.figure(figsize=(15,5))\n",
    "plt.hist(np.sqrt(np.sum((ypred-y_test)**2,axis=1)),bins=100)\n",
    "plt.grid()\n",
    "plt.ylabel('Frequency')\n",
    "plt.xlabel('Torque prediction error')\n",
    "plt.show()"
   ]
  },
  {
   "cell_type": "code",
   "execution_count": null,
   "metadata": {},
   "outputs": [],
   "source": [
    "plt.figure(figsize=(18,6))\n",
    "plt.subplot(1,3,1)\n",
    "plt.plot(y_test[:,0],ypred[:,0],'o',alpha=0.1)\n",
    "plt.grid()\n",
    "plt.ylabel('Predicted Torque')\n",
    "plt.xlabel('Torque')\n",
    "plt.subplot(1,3,2)\n",
    "plt.plot(y_test[:,1],ypred[:,1],'o',alpha=0.1)\n",
    "plt.grid()\n",
    "plt.ylabel('Predicted Torque')\n",
    "plt.xlabel('Torque')\n",
    "plt.subplot(1,3,3)\n",
    "plt.plot(y_test[:,2],ypred[:,2],'o',alpha=0.1)\n",
    "plt.grid()\n",
    "plt.ylabel('Predicted Torque')\n",
    "plt.xlabel('Torque')\n",
    "plt.show()"
   ]
  }
 ],
 "metadata": {
  "kernelspec": {
   "display_name": "Python 2",
   "language": "python",
   "name": "python2"
  },
  "language_info": {
   "codemirror_mode": {
    "name": "ipython",
    "version": 2
   },
   "file_extension": ".py",
   "mimetype": "text/x-python",
   "name": "python",
   "nbconvert_exporter": "python",
   "pygments_lexer": "ipython2",
   "version": "2.7.12"
  }
 },
 "nbformat": 4,
 "nbformat_minor": 2
}
